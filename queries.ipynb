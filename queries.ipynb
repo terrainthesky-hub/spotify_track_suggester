{
 "cells": [
  {
   "cell_type": "code",
   "execution_count": 23,
   "metadata": {},
   "outputs": [
    {
     "output_type": "error",
     "ename": "SyntaxError",
     "evalue": "unterminated quoted string at or near \"'Murderer''\"\nLINE 1: SELECT track_id from Songs where Songs.name = 'Murderer''\n                                                      ^\n",
     "traceback": [
      "\u001b[1;31m---------------------------------------------------------------------------\u001b[0m",
      "\u001b[1;31mSyntaxError\u001b[0m                               Traceback (most recent call last)",
      "\u001b[1;32m<ipython-input-23-a66329328b24>\u001b[0m in \u001b[0;36m<module>\u001b[1;34m\u001b[0m\n\u001b[0;32m     28\u001b[0m                             host=DB_HOST)\n\u001b[0;32m     29\u001b[0m \u001b[0mcurpg\u001b[0m \u001b[1;33m=\u001b[0m \u001b[0mconpg\u001b[0m\u001b[1;33m.\u001b[0m\u001b[0mcursor\u001b[0m\u001b[1;33m(\u001b[0m\u001b[1;33m)\u001b[0m\u001b[1;33m\u001b[0m\u001b[1;33m\u001b[0m\u001b[0m\n\u001b[1;32m---> 30\u001b[1;33m \u001b[0mcurpg\u001b[0m\u001b[1;33m.\u001b[0m\u001b[0mexecute\u001b[0m\u001b[1;33m(\u001b[0m\u001b[0mquery\u001b[0m\u001b[1;33m)\u001b[0m\u001b[1;33m\u001b[0m\u001b[1;33m\u001b[0m\u001b[0m\n\u001b[0m\u001b[0;32m     31\u001b[0m \u001b[0mtrack_id\u001b[0m \u001b[1;33m=\u001b[0m \u001b[0mcurpg\u001b[0m\u001b[1;33m.\u001b[0m\u001b[0mfetchall\u001b[0m\u001b[1;33m(\u001b[0m\u001b[1;33m)\u001b[0m\u001b[1;33m\u001b[0m\u001b[1;33m\u001b[0m\u001b[0m\n\u001b[0;32m     32\u001b[0m \u001b[0mtrack_id\u001b[0m\u001b[1;33m[\u001b[0m\u001b[1;36m0\u001b[0m\u001b[1;33m]\u001b[0m\u001b[1;33m[\u001b[0m\u001b[1;36m0\u001b[0m\u001b[1;33m]\u001b[0m\u001b[1;33m\u001b[0m\u001b[1;33m\u001b[0m\u001b[0m\n",
      "\u001b[1;31mSyntaxError\u001b[0m: unterminated quoted string at or near \"'Murderer''\"\nLINE 1: SELECT track_id from Songs where Songs.name = 'Murderer''\n                                                      ^\n"
     ]
    }
   ],
   "source": [
    "import psycopg2\n",
    "\n",
    "from dotenv import load_dotenv \n",
    "\n",
    "\n",
    "load_dotenv()\n",
    "\n",
    "DB_NAME = 'agcjvbou'\n",
    "DB_USER = 'agcjvbou'\n",
    "DB_PASSWORD = '5YH6Jp8UEjkh9rmOgCg6Z-79W9efPEtM'\n",
    "DB_HOST = 'ruby.db.elephantsql.com'\n",
    "\n",
    "song_name = 'Murderer'\n",
    "\n",
    "# query = f\"SELECT track_id from Songs where Songs.name = '(?)'\"\n",
    "\n",
    "# query = \"\"\"\n",
    "# SELECT track_id from Songs where Songs.name = (?)\n",
    "# \"\"\"\n",
    "\n",
    "# conpg = psycopg2.connect(database=DB_NAME, user=DB_USER, password=DB_PASSWORD, host=DB_HOST)\n",
    "# curpg = conpg.cursor()\n",
    "# track_id = curpg.execute(\"SELECT track_id from Songs where Songs.name = '(?)'\", (song_name)).fetchall()\n",
    "# #track_id = curpg.execute(query).fetchall()\n",
    "\n",
    "query = f\"SELECT track_id from Songs where Songs.name = '{song_name}'\"\n",
    "conpg = psycopg2.connect(database=DB_NAME, user=DB_USER, password=DB_PASSWORD,\n",
    "                            host=DB_HOST)\n",
    "curpg = conpg.cursor()\n",
    "curpg.execute(query)\n",
    "track_id = curpg.fetchall()\n",
    "track_id[0][0]\n"
   ]
  },
  {
   "cell_type": "code",
   "execution_count": 21,
   "metadata": {},
   "outputs": [],
   "source": [
    "track_id"
   ]
  }
 ],
 "metadata": {
  "language_info": {
   "codemirror_mode": {
    "name": "ipython",
    "version": 3
   },
   "file_extension": ".py",
   "mimetype": "text/x-python",
   "name": "python",
   "nbconvert_exporter": "python",
   "pygments_lexer": "ipython3",
   "version": "3.7.6-final"
  },
  "orig_nbformat": 2,
  "kernelspec": {
   "name": "python3",
   "display_name": "Python 3"
  }
 },
 "nbformat": 4,
 "nbformat_minor": 2
}