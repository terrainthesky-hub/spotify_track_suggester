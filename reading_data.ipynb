{
 "cells": [
  {
   "cell_type": "code",
   "execution_count": null,
   "metadata": {},
   "outputs": [],
   "source": []
  },
  {
   "cell_type": "code",
   "execution_count": 1,
   "metadata": {},
   "outputs": [],
   "source": []
  },
  {
   "cell_type": "code",
   "execution_count": 3,
   "metadata": {},
   "outputs": [],
   "source": [
    "\n"
   ]
  },
  {
   "cell_type": "code",
   "execution_count": 4,
   "metadata": {},
   "outputs": [
    {
     "output_type": "execute_result",
     "data": {
      "text/plain": "(100000, 19)"
     },
     "metadata": {},
     "execution_count": 4
    }
   ],
   "source": [
    "df.shape"
   ]
  },
  {
   "cell_type": "code",
   "execution_count": 5,
   "metadata": {},
   "outputs": [
    {
     "output_type": "execute_result",
     "data": {
      "text/plain": "   acousticness                     artists  danceability  duration_ms  \\\n0      0.554000         ['Banda El Recodo']         0.541       178013   \n1      0.466000  ['Los Tucanes De Tijuana']         0.692       198325   \n2      0.000968   ['The Smashing Pumpkins']         0.607       250293   \n3      0.003430       ['Brotha Lynch Hung']         0.806       281773   \n4      0.078600                     ['Fey']         0.681       280640   \n\n   energy  explicit                      id  instrumentalness  key  liveness  \\\n0   0.300         0  4m5hcZXjgM3iL1tWNCWaer               0.0    8    0.0508   \n1   0.455         0  7hVGVarDgrC7FCOslZFcAo               0.0    9    0.0645   \n2   0.333         0  1fPKWu8NKS1ZGHjFZ5QCAs               0.4    6    0.1510   \n3   0.697         1  6qUp2e9VGAhWfc0O1MO6zE               0.0   10    0.2610   \n4   0.939         0  4i6PCo9JMAnIqzUZrTirCP               0.0    7    0.0534   \n\n   loudness  mode                            name  popularity release_date  \\\n0   -11.051     1                   Clave Privada          52   1995-03-11   \n1   -10.036     1                      El Borrego          50   1995-11-21   \n2   -12.717     1  Thirty-Three - Remastered 2012          51         1995   \n3    -3.638     1                    Rest In Piss          46         1995   \n4    -4.232     1                   Azúcar Amargo          46         1995   \n\n   speechiness    tempo  valence  year  \n0       0.0734  195.094   0.9680  1995  \n1       0.0477  206.102   0.9650  1995  \n2       0.0324  126.619   0.0802  1995  \n3       0.0512  138.245   0.6160  1995  \n4       0.0304  130.073   0.6900  1995  ",
      "text/html": "<div>\n<style scoped>\n    .dataframe tbody tr th:only-of-type {\n        vertical-align: middle;\n    }\n\n    .dataframe tbody tr th {\n        vertical-align: top;\n    }\n\n    .dataframe thead th {\n        text-align: right;\n    }\n</style>\n<table border=\"1\" class=\"dataframe\">\n  <thead>\n    <tr style=\"text-align: right;\">\n      <th></th>\n      <th>acousticness</th>\n      <th>artists</th>\n      <th>danceability</th>\n      <th>duration_ms</th>\n      <th>energy</th>\n      <th>explicit</th>\n      <th>id</th>\n      <th>instrumentalness</th>\n      <th>key</th>\n      <th>liveness</th>\n      <th>loudness</th>\n      <th>mode</th>\n      <th>name</th>\n      <th>popularity</th>\n      <th>release_date</th>\n      <th>speechiness</th>\n      <th>tempo</th>\n      <th>valence</th>\n      <th>year</th>\n    </tr>\n  </thead>\n  <tbody>\n    <tr>\n      <th>0</th>\n      <td>0.554000</td>\n      <td>['Banda El Recodo']</td>\n      <td>0.541</td>\n      <td>178013</td>\n      <td>0.300</td>\n      <td>0</td>\n      <td>4m5hcZXjgM3iL1tWNCWaer</td>\n      <td>0.0</td>\n      <td>8</td>\n      <td>0.0508</td>\n      <td>-11.051</td>\n      <td>1</td>\n      <td>Clave Privada</td>\n      <td>52</td>\n      <td>1995-03-11</td>\n      <td>0.0734</td>\n      <td>195.094</td>\n      <td>0.9680</td>\n      <td>1995</td>\n    </tr>\n    <tr>\n      <th>1</th>\n      <td>0.466000</td>\n      <td>['Los Tucanes De Tijuana']</td>\n      <td>0.692</td>\n      <td>198325</td>\n      <td>0.455</td>\n      <td>0</td>\n      <td>7hVGVarDgrC7FCOslZFcAo</td>\n      <td>0.0</td>\n      <td>9</td>\n      <td>0.0645</td>\n      <td>-10.036</td>\n      <td>1</td>\n      <td>El Borrego</td>\n      <td>50</td>\n      <td>1995-11-21</td>\n      <td>0.0477</td>\n      <td>206.102</td>\n      <td>0.9650</td>\n      <td>1995</td>\n    </tr>\n    <tr>\n      <th>2</th>\n      <td>0.000968</td>\n      <td>['The Smashing Pumpkins']</td>\n      <td>0.607</td>\n      <td>250293</td>\n      <td>0.333</td>\n      <td>0</td>\n      <td>1fPKWu8NKS1ZGHjFZ5QCAs</td>\n      <td>0.4</td>\n      <td>6</td>\n      <td>0.1510</td>\n      <td>-12.717</td>\n      <td>1</td>\n      <td>Thirty-Three - Remastered 2012</td>\n      <td>51</td>\n      <td>1995</td>\n      <td>0.0324</td>\n      <td>126.619</td>\n      <td>0.0802</td>\n      <td>1995</td>\n    </tr>\n    <tr>\n      <th>3</th>\n      <td>0.003430</td>\n      <td>['Brotha Lynch Hung']</td>\n      <td>0.806</td>\n      <td>281773</td>\n      <td>0.697</td>\n      <td>1</td>\n      <td>6qUp2e9VGAhWfc0O1MO6zE</td>\n      <td>0.0</td>\n      <td>10</td>\n      <td>0.2610</td>\n      <td>-3.638</td>\n      <td>1</td>\n      <td>Rest In Piss</td>\n      <td>46</td>\n      <td>1995</td>\n      <td>0.0512</td>\n      <td>138.245</td>\n      <td>0.6160</td>\n      <td>1995</td>\n    </tr>\n    <tr>\n      <th>4</th>\n      <td>0.078600</td>\n      <td>['Fey']</td>\n      <td>0.681</td>\n      <td>280640</td>\n      <td>0.939</td>\n      <td>0</td>\n      <td>4i6PCo9JMAnIqzUZrTirCP</td>\n      <td>0.0</td>\n      <td>7</td>\n      <td>0.0534</td>\n      <td>-4.232</td>\n      <td>1</td>\n      <td>Azúcar Amargo</td>\n      <td>46</td>\n      <td>1995</td>\n      <td>0.0304</td>\n      <td>130.073</td>\n      <td>0.6900</td>\n      <td>1995</td>\n    </tr>\n  </tbody>\n</table>\n</div>"
     },
     "metadata": {},
     "execution_count": 5
    }
   ],
   "source": [
    "df.head()"
   ]
  },
  {
   "cell_type": "code",
   "execution_count": null,
   "metadata": {},
   "outputs": [],
   "source": [
    "for x in range(0, 10000):\n",
    "    df_records = Songs(acouticness = df['acousticness'][x],\n",
    "                    artists = df['artists'][x],\n",
    "                    danceability = df['danceability'][x],\n",
    "                    duration_ms = df['duration_ms'][x],\n",
    "                    energy = df['energy'][x],\n",
    "                    explicit = df['explicit'][x],\n",
    "                    track_id = df['id'][x],\n",
    "                    instrumentalness = df['instrumentalness'][x],\n",
    "                    key = df['key'][x],\n",
    "                    liveness = df['liveness'][x],\n",
    "                    loudness = df['loudness'][x],\n",
    "                    mode = df['mode'][x],\n",
    "                    name = df['name'][x],\n",
    "                    popularity = df['popularity'][x],\n",
    "                    release_date = df['release_date'][x],\n",
    "                    speechiness = df['speechiness'][x],\n",
    "                    tempo = df['tempo'][x],\n",
    "                    valence = df['valence'][x],\n",
    "                    year = df['year'][x])\n",
    "    db.session.add(df_records)"
   ]
  },
  {
   "cell_type": "code",
   "execution_count": 7,
   "metadata": {},
   "outputs": [
    {
     "output_type": "execute_result",
     "data": {
      "text/plain": "[1, 2, 3, 4, 5, 6, 1, 2, 3, 4, 5, 6]"
     },
     "metadata": {},
     "execution_count": 7
    }
   ],
   "source": []
  },
  {
   "cell_type": "code",
   "execution_count": null,
   "metadata": {},
   "outputs": [],
   "source": []
  }
 ],
 "metadata": {
  "language_info": {
   "codemirror_mode": {
    "name": "ipython",
    "version": 3
   },
   "file_extension": ".py",
   "mimetype": "text/x-python",
   "name": "python",
   "nbconvert_exporter": "python",
   "pygments_lexer": "ipython3",
   "version": "3.7.6-final"
  },
  "orig_nbformat": 2,
  "kernelspec": {
   "name": "python3",
   "display_name": "Python 3"
  }
 },
 "nbformat": 4,
 "nbformat_minor": 2
}